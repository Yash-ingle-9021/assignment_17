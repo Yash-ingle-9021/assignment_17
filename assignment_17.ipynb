{
 "cells": [
  {
   "cell_type": "code",
   "execution_count": 1,
   "id": "3f591615-0b0e-410e-9222-92602dbbb478",
   "metadata": {},
   "outputs": [
    {
     "name": "stdout",
     "output_type": "stream",
     "text": [
      "* ASSIGNMENT_17 *\n"
     ]
    }
   ],
   "source": [
    "print(\"* ASSIGNMENT_17 *\")"
   ]
  },
  {
   "cell_type": "code",
   "execution_count": 1,
   "id": "1a31384c-175e-4371-8e9e-cc1e32be1a76",
   "metadata": {},
   "outputs": [
    {
     "name": "stdout",
     "output_type": "stream",
     "text": [
      "Q_1_ANS :- API [Application Programming Interface] :-APIs are mechanisms that enable two software components to communicate with each other using a set of definitions and protocols. For example, the weather bureau’s software system contains daily weather data. The weather app on your phone “talks” to this system via APIs and shows you daily weather updates on your phone.\n",
      "APIs are used in web applications to connect user-facing front ends with critical back-end functionality and data. APIs are used to deliver material by streaming services such as Spotify and Netflix. APIs are used by automakers such as Tesla to provide software upgrades. \n"
     ]
    }
   ],
   "source": [
    "print(\"Q_1_ANS :- API [Application Programming Interface] :-APIs are mechanisms that enable two software components to communicate with each other using a set of definitions and protocols. For example, the weather bureau’s software system contains daily weather data. The weather app on your phone “talks” to this system via APIs and shows you daily weather updates on your phone.\\nAPIs are used in web applications to connect user-facing front ends with critical back-end functionality and data. APIs are used to deliver material by streaming services such as Spotify and Netflix. APIs are used by automakers such as Tesla to provide software upgrades. \")"
   ]
  },
  {
   "cell_type": "code",
   "execution_count": 2,
   "id": "118f16a5-c5ab-4310-a9bc-6f338c9ad0e8",
   "metadata": {},
   "outputs": [
    {
     "name": "stdout",
     "output_type": "stream",
     "text": [
      "Q_2_ANS :- Advantages :- Analytics. Google Analytics is a part of the Google Cloud API Platform and offers multiple API options that businesses can use for analytics. The most common APIs used are Core Reporting API and Management API.\n",
      "Project and Team Management. Tools like Jira, Basecamp, and Microsoft Teams provide communication between coworkers and data sharing functionality — and that all happens through API.\n",
      "Online Payment Systems. Where digital money transfers occur, there is an API supporting the process. Many organizations choose to utilize APIs from a firm such as PayPal to provide secure, safe money transfers to their customers.\n",
      "APIs are vital to any business, and it is essential for companies to embed secure API gateways within the cloud itself. This means using Secure API Gateway technologies which put security as a top priority. This is not something that business leaders should just leave to their Cloud Providers — it is up to individual companies to be proactive about securing these solutions. \n",
      "Disadvantages :- There is a lot of conveniences and advantages to APIs, but business leaders should also be aware of the disadvantages. As a single point of entry, an API is a gateway and can become a hacker's primary target. Once the API is compromised, all other applications and systems become vulnerable.\n",
      "Nine of the top ten vulnerabilities listed in the OWASP Top 10 now mention APIs — and since APIs can be accessed over the internet, they will have all the same disadvantages as any other Internet-based resource.  APIs are vulnerable to man-in-the-middle attacks, CSRF attacks, XSS attacks, SQL injection, and DDoS attacks. \n"
     ]
    }
   ],
   "source": [
    "print(\"Q_2_ANS :- Advantages :- Analytics. Google Analytics is a part of the Google Cloud API Platform and offers multiple API options that businesses can use for analytics. The most common APIs used are Core Reporting API and Management API.\\nProject and Team Management. Tools like Jira, Basecamp, and Microsoft Teams provide communication between coworkers and data sharing functionality — and that all happens through API.\\nOnline Payment Systems. Where digital money transfers occur, there is an API supporting the process. Many organizations choose to utilize APIs from a firm such as PayPal to provide secure, safe money transfers to their customers.\\nAPIs are vital to any business, and it is essential for companies to embed secure API gateways within the cloud itself. This means using Secure API Gateway technologies which put security as a top priority. This is not something that business leaders should just leave to their Cloud Providers — it is up to individual companies to be proactive about securing these solutions. \\nDisadvantages :- There is a lot of conveniences and advantages to APIs, but business leaders should also be aware of the disadvantages. As a single point of entry, an API is a gateway and can become a hacker's primary target. Once the API is compromised, all other applications and systems become vulnerable.\\nNine of the top ten vulnerabilities listed in the OWASP Top 10 now mention APIs — and since APIs can be accessed over the internet, they will have all the same disadvantages as any other Internet-based resource.  APIs are vulnerable to man-in-the-middle attacks, CSRF attacks, XSS attacks, SQL injection, and DDoS attacks. \")"
   ]
  },
  {
   "cell_type": "code",
   "execution_count": 3,
   "id": "615c668b-9c5c-4600-b71d-411a1acb910b",
   "metadata": {},
   "outputs": [
    {
     "name": "stdout",
     "output_type": "stream",
     "text": [
      "Q_3_ANS :- Web API :- Web API is an API as the name suggests, it can be accessed over the web using the HTTP protocol. It is a framework that helps you to create and develop HTTP based RESTFUL services. The web API can be developed by using different technologies such as java, ASP.NET, etc. Web API is used in either a web server or a web browser. Basically Web API is a web development concept. It is limited to Web Application’s client-side and also it does not include a web server or web browser details. If an application is to be used on a distributed system and to provide services on different devices like laptops, mobiles, etc then web API services are used. Web API is the enhanced form of the web application.\n",
      " API :- A Web services are any bit of services that makes it accessible over the Internet and normalizes its correspondence through XML encoding. A customer conjures web services by sending a solicitation (for the most part as an XML message), and the services send back an XML response. Web services summon communication over a network, with HTTP as the most widely recognized methods for the network between the two frameworks. Web services are equivalent to SOA (Services Oriented Architecture) and fundamentally depend on measures, for example, XML-RPC and SOAP (Simple Object Access Protocol).\n",
      " Web API :- Web APIs: API stands for Application Programming Interface. It is a collection of communication conventions and subroutines used by various programs to communicate between them. A developer can utilize different API apparatuses to make its program simpler and less complex. Likewise, an API encourages the developers with a proficient method to build up their product programs. Thus, in simple terms, an API determines how programming segments ought to associate with one another. It is a set of protocols and schedules, and its reactions are returned as JSON or XML in data. APIs can utilize any kind of communication convention and are not restricted similarly as a web service is.\n"
     ]
    }
   ],
   "source": [
    "print(\"Q_3_ANS :- Web API :- Web API is an API as the name suggests, it can be accessed over the web using the HTTP protocol. It is a framework that helps you to create and develop HTTP based RESTFUL services. The web API can be developed by using different technologies such as java, ASP.NET, etc. Web API is used in either a web server or a web browser. Basically Web API is a web development concept. It is limited to Web Application’s client-side and also it does not include a web server or web browser details. If an application is to be used on a distributed system and to provide services on different devices like laptops, mobiles, etc then web API services are used. Web API is the enhanced form of the web application.\\n API :- A Web services are any bit of services that makes it accessible over the Internet and normalizes its correspondence through XML encoding. A customer conjures web services by sending a solicitation (for the most part as an XML message), and the services send back an XML response. Web services summon communication over a network, with HTTP as the most widely recognized methods for the network between the two frameworks. Web services are equivalent to SOA (Services Oriented Architecture) and fundamentally depend on measures, for example, XML-RPC and SOAP (Simple Object Access Protocol).\\n Web API :- Web APIs: API stands for Application Programming Interface. It is a collection of communication conventions and subroutines used by various programs to communicate between them. A developer can utilize different API apparatuses to make its program simpler and less complex. Likewise, an API encourages the developers with a proficient method to build up their product programs. Thus, in simple terms, an API determines how programming segments ought to associate with one another. It is a set of protocols and schedules, and its reactions are returned as JSON or XML in data. APIs can utilize any kind of communication convention and are not restricted similarly as a web service is.\")"
   ]
  },
  {
   "cell_type": "code",
   "execution_count": 5,
   "id": "0512df3f-4d08-4abe-990f-4a181f33379c",
   "metadata": {},
   "outputs": [
    {
     "name": "stdout",
     "output_type": "stream",
     "text": [
      "Q_4_ANS :- SOAP stands for Simple Object Access Protocol whereas REST stands for Representational State Transfer.\n",
      "SOAP is a protocol whereas REST is an architectural pattern.\n",
      "SOAP uses service interfaces to expose its functionality to client applications while REST uses Uniform Service locators to access to the components on the hardware device.\n",
      "SOAP needs more bandwidth for its usage whereas REST doesn’t need much bandwidth.\n",
      "Comparing SOAP vs REST API, SOAP only works with XML formats whereas REST work with plain text, XML, HTML and JSON.\n",
      "SOAP cannot make use of REST whereas REST can make use of SOAP.\n",
      "\n"
     ]
    }
   ],
   "source": [
    "print(\"Q_4_ANS :- SOAP stands for Simple Object Access Protocol whereas REST stands for Representational State Transfer.\\nSOAP is a protocol whereas REST is an architectural pattern.\\nSOAP uses service interfaces to expose its functionality to client applications while REST uses Uniform Service locators to access to the components on the hardware device.\\nSOAP needs more bandwidth for its usage whereas REST doesn’t need much bandwidth.\\nComparing SOAP vs REST API, SOAP only works with XML formats whereas REST work with plain text, XML, HTML and JSON.\\nSOAP cannot make use of REST whereas REST can make use of SOAP.\\n\")"
   ]
  },
  {
   "cell_type": "code",
   "execution_count": 6,
   "id": "d2cff4f8-c656-49bc-a626-c4a57fc794cb",
   "metadata": {},
   "outputs": [
    {
     "name": "stdout",
     "output_type": "stream",
     "text": [
      "Q_5_ANS :- SOAP :- SOAP stands for Simple Object Access Protocol\n",
      "SOAP is a protocol. SOAP was designed with a specification. It includes a WSDL file which has the required information on what the web service does in addition to the location of the web service.\n",
      "SOAP cannot make use of REST since SOAP is a protocol and REST is an architectural pattern.\n",
      "SOAP uses service interfaces to expose its functionality to client applications.\n",
      " In SOAP, the WSDL file provides the client with the necessary information which can be used to understand what services the web service can offer. \n",
      "SOAP requires more bandwidth for its usage. Since SOAP Messages contain a lot of information inside of it, the amount of data transfer using SOAP is generally a lot.\n",
      "SOAP can only work with XML format. As seen from SOAP messages, all data passed is in XML format.\n",
      "REST :- REST stands for Representational State Transfer\n",
      "REST is an Architectural style in which a web service can only be treated as a RESTful service if it follows the constraints of being\n",
      "1. Client Server\n",
      "2. Stateless\n",
      "3. Cacheable\n",
      "4. Layered System\n",
      "5. Uniform Interface\n",
      "REST can make use of SOAP as the underlying protocol for web services, because in the end it is just an architectural pattern.\n",
      "REST use Uniform Service locators to access to the components on the hardware device. For example, if there is an object which represents the data of an employee hosted on a URL as http://demo.guru99 , the below are some of URI that can exist to access them.\n",
      "http://demo.guru99.com/Employee\n",
      "http://demo.guru99.com/Employee/1\n",
      "REST does not need much bandwidth when requests are sent to the server. REST messages mostly just consist of JSON messages. Below is an example of a JSON message passed to a web server. You can see that the size of the message is comparatively smaller to SOAP.\n",
      "REST permits different data format such as Plain text, HTML, XML, JSON, etc. But the most preferred format for transferring data is JSON. \n"
     ]
    }
   ],
   "source": [
    "print(\"Q_5_ANS :- SOAP :- SOAP stands for Simple Object Access Protocol\\nSOAP is a protocol. SOAP was designed with a specification. It includes a WSDL file which has the required information on what the web service does in addition to the location of the web service.\\nSOAP cannot make use of REST since SOAP is a protocol and REST is an architectural pattern.\\nSOAP uses service interfaces to expose its functionality to client applications.\\n In SOAP, the WSDL file provides the client with the necessary information which can be used to understand what services the web service can offer. \\nSOAP requires more bandwidth for its usage. Since SOAP Messages contain a lot of information inside of it, the amount of data transfer using SOAP is generally a lot.\\nSOAP can only work with XML format. As seen from SOAP messages, all data passed is in XML format.\\nREST :- REST stands for Representational State Transfer\\nREST is an Architectural style in which a web service can only be treated as a RESTful service if it follows the constraints of being\\n1. Client Server\\n2. Stateless\\n3. Cacheable\\n4. Layered System\\n5. Uniform Interface\\nREST can make use of SOAP as the underlying protocol for web services, because in the end it is just an architectural pattern.\\nREST use Uniform Service locators to access to the components on the hardware device. For example, if there is an object which represents the data of an employee hosted on a URL as http://demo.guru99 , the below are some of URI that can exist to access them.\\nhttp://demo.guru99.com/Employee\\nhttp://demo.guru99.com/Employee/1\\nREST does not need much bandwidth when requests are sent to the server. REST messages mostly just consist of JSON messages. Below is an example of a JSON message passed to a web server. You can see that the size of the message is comparatively smaller to SOAP.\\nREST permits different data format such as Plain text, HTML, XML, JSON, etc. But the most preferred format for transferring data is JSON. \")"
   ]
  },
  {
   "cell_type": "code",
   "execution_count": null,
   "id": "a33a4be5-be56-4b94-b983-b2855a394853",
   "metadata": {},
   "outputs": [],
   "source": []
  }
 ],
 "metadata": {
  "kernelspec": {
   "display_name": "Python 3 (ipykernel)",
   "language": "python",
   "name": "python3"
  },
  "language_info": {
   "codemirror_mode": {
    "name": "ipython",
    "version": 3
   },
   "file_extension": ".py",
   "mimetype": "text/x-python",
   "name": "python",
   "nbconvert_exporter": "python",
   "pygments_lexer": "ipython3",
   "version": "3.10.6"
  }
 },
 "nbformat": 4,
 "nbformat_minor": 5
}
